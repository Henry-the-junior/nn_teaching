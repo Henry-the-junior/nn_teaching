{
  "nbformat": 4,
  "nbformat_minor": 0,
  "metadata": {
    "colab": {
      "name": "neural_problem_project_ans.ipynb",
      "provenance": [],
      "collapsed_sections": []
    },
    "kernelspec": {
      "name": "python3",
      "display_name": "Python 3"
    },
    "language_info": {
      "name": "python"
    }
  },
  "cells": [
    {
      "cell_type": "code",
      "execution_count": 2,
      "metadata": {
        "id": "6L-gyFseMPKH"
      },
      "outputs": [],
      "source": [
        "# 輸入資料與期望輸出\n",
        "Data = [[5, 2], [4.5, 2.5], [3, 4], [2.5, 3]]\n",
        "Yd = [1, 1, 0, 0]\n",
        "\n",
        "# 設定起始權重\n",
        "w = [0.3, 0.1]"
      ]
    },
    {
      "cell_type": "code",
      "source": [
        "# 了解陣列結構\n",
        "print(\"輸入值：\")\n",
        "print(Data[0])\n",
        "print(Data[1])\n",
        "print(Data[2])\n",
        "print(Data[3])\n",
        "print(\"-----\")\n",
        "print(\"期望輸出：\")\n",
        "print(Yd[0])\n",
        "print(Yd[1])\n",
        "print(Yd[2])\n",
        "print(Yd[3])\n",
        "print(\"-----\")\n",
        "print(\"起始權重：\")\n",
        "print(w[0])\n",
        "print(w[1])"
      ],
      "metadata": {
        "colab": {
          "base_uri": "https://localhost:8080/"
        },
        "id": "3CHw8USeukFT",
        "outputId": "016ecca5-17cc-4e2d-ca01-7bb8c47ce799"
      },
      "execution_count": 19,
      "outputs": [
        {
          "output_type": "stream",
          "name": "stdout",
          "text": [
            "輸入值：\n",
            "[5, 2]\n",
            "[4.5, 2.5]\n",
            "[3, 4]\n",
            "[2.5, 3]\n",
            "-----\n",
            "期望輸出：\n",
            "1\n",
            "1\n",
            "0\n",
            "0\n",
            "-----\n",
            "起始權重：\n",
            "0.3\n",
            "0.1\n"
          ]
        }
      ]
    },
    {
      "cell_type": "code",
      "source": [
        "theta = 0.2\n",
        "\n",
        "# 計算第一筆資料的輸出值\n",
        "X = Data[0][0] * w[0] + Data[0][1] * w[1] - theta\n",
        "print(X)\n",
        "\n",
        "# 計算第二筆資料的輸出值\n",
        "X = Data[1][0] * w[0] + Data[1][1] * w[1] - theta\n",
        "print(X)\n",
        "\n",
        "# 計算第三筆資料的輸出值\n",
        "X = Data[2][0] * w[0] + Data[2][1] * w[1] - theta\n",
        "print(X)\n",
        "\n",
        "# 計算第四筆資料的輸出值\n",
        "X = Data[3][0] * w[0] + Data[3][1] * w[1] - theta\n",
        "print(X)"
      ],
      "metadata": {
        "colab": {
          "base_uri": "https://localhost:8080/"
        },
        "id": "doJFJlQyvq9t",
        "outputId": "8af1f300-39d5-4b3b-da2a-7c2d80074c71"
      },
      "execution_count": 20,
      "outputs": [
        {
          "output_type": "stream",
          "name": "stdout",
          "text": [
            "1.5\n",
            "1.4\n",
            "1.0999999999999999\n",
            "0.8500000000000001\n"
          ]
        }
      ]
    },
    {
      "cell_type": "code",
      "source": [
        "# nn函數\n",
        "def nn(x, w, theta):\n",
        "  X = x[0] * w[0] + x[1] * w[1] - theta\n",
        "  return X"
      ],
      "metadata": {
        "id": "ng_um2UiMZ7g"
      },
      "execution_count": 3,
      "outputs": []
    },
    {
      "cell_type": "code",
      "source": [
        "theta = 0.2\n",
        "\n",
        "# 計算第一筆資料的輸出值\n",
        "X = nn(Data[0], w, theta)\n",
        "print(X)\n",
        "\n",
        "# 計算第二筆資料的輸出值\n",
        "X = nn(Data[1], w, theta)\n",
        "print(X)\n",
        "\n",
        "# 計算第三筆資料的輸出值\n",
        "X = nn(Data[2], w, theta)\n",
        "print(X)\n",
        "\n",
        "# 計算第四筆資料的輸出值\n",
        "X = nn(Data[3], w, theta)\n",
        "print(X)"
      ],
      "metadata": {
        "colab": {
          "base_uri": "https://localhost:8080/"
        },
        "id": "zsKKP1IrwNYY",
        "outputId": "f76705e2-7b6d-4721-bef7-5caa1d1dbf19"
      },
      "execution_count": 22,
      "outputs": [
        {
          "output_type": "stream",
          "name": "stdout",
          "text": [
            "1.5\n",
            "1.4\n",
            "1.0999999999999999\n",
            "0.8500000000000001\n"
          ]
        }
      ]
    },
    {
      "cell_type": "code",
      "source": [
        "# 步階函數\n",
        "def step(X):\n",
        "  if X >= 0:\n",
        "    return 1\n",
        "  else:\n",
        "    return 0"
      ],
      "metadata": {
        "id": "slOuunlnMasO"
      },
      "execution_count": 5,
      "outputs": []
    },
    {
      "cell_type": "code",
      "source": [
        "# 測試步階函數\n",
        "Y = step(5)\n",
        "print(Y)\n",
        "\n",
        "Y = step(-1)\n",
        "print(Y)"
      ],
      "metadata": {
        "colab": {
          "base_uri": "https://localhost:8080/"
        },
        "id": "MDK8wWWQ_ibf",
        "outputId": "3b39f520-5878-477e-be9c-079e38c83e08"
      },
      "execution_count": 10,
      "outputs": [
        {
          "output_type": "stream",
          "name": "stdout",
          "text": [
            "1\n",
            "0\n"
          ]
        }
      ]
    },
    {
      "cell_type": "code",
      "source": [
        "# nn函數與步階函數串接\n",
        "def nn_step(x, w, theta):\n",
        "  return step(nn(x, w, theta))"
      ],
      "metadata": {
        "id": "at7JfZyIMekd"
      },
      "execution_count": 27,
      "outputs": []
    },
    {
      "cell_type": "code",
      "source": [
        "theta = 0.2\n",
        "\n",
        "# 計算第一筆資料的輸出值\n",
        "Y = nn_step(Data[0], w, theta)\n",
        "print(Y)\n",
        "\n",
        "# 計算第二筆資料的輸出值\n",
        "Y = nn_step(Data[1], w, theta)\n",
        "print(Y)\n",
        "\n",
        "# 計算第三筆資料的輸出值\n",
        "Y = nn_step(Data[2], w, theta)\n",
        "print(Y)\n",
        "\n",
        "# 計算第四筆資料的輸出值\n",
        "Y = nn_step(Data[3], w, theta)\n",
        "print(Y)"
      ],
      "metadata": {
        "colab": {
          "base_uri": "https://localhost:8080/"
        },
        "id": "WW_ephhk8qAS",
        "outputId": "4a7f63cf-8c2a-4f5f-94b6-7ed5f28f62d1"
      },
      "execution_count": 28,
      "outputs": [
        {
          "output_type": "stream",
          "name": "stdout",
          "text": [
            "1\n",
            "1\n",
            "1\n",
            "1\n"
          ]
        }
      ]
    },
    {
      "cell_type": "code",
      "source": [
        "# 學習演算法\n",
        "def new_w(x, w, y, yd, alpha):\n",
        "  error = yd - y\n",
        "  w[0] = w[0] + (alpha * x[0] * error)\n",
        "  w[1] = w[1] + (alpha * x[1] * error)\n",
        "  return w"
      ],
      "metadata": {
        "id": "e9sGbmH0MgTR"
      },
      "execution_count": 29,
      "outputs": []
    },
    {
      "cell_type": "code",
      "source": [
        "# 讀取第一筆資料並調整權重\n",
        "y = nn_step(Data[0], w, 0.2)\n",
        "w = new_w(Data[0], w, y, Yd[0], 0.2)\n",
        "print(w)\n",
        "# 讀取第二筆資料並調整權重\n",
        "y = nn_step(Data[1], w, 0.2)\n",
        "w = new_w(Data[1], w, y, Yd[1], 0.2)\n",
        "print(w)\n",
        "# 讀取第三筆資料並調整權重\n",
        "y = nn_step(Data[2], w, 0.2)\n",
        "w = new_w(Data[2], w, y, Yd[2], 0.2)\n",
        "print(w)\n",
        "# 讀取第四筆資料並調整權重\n",
        "y = nn_step(Data[3], w, 0.2)\n",
        "w = new_w(Data[3], w, y, Yd[3], 0.2)\n",
        "print(w)"
      ],
      "metadata": {
        "colab": {
          "base_uri": "https://localhost:8080/"
        },
        "id": "nD_nP7rTDt1I",
        "outputId": "43e0d7b2-e7f9-42de-e431-5671e55000b3"
      },
      "execution_count": 31,
      "outputs": [
        {
          "output_type": "stream",
          "name": "stdout",
          "text": [
            "[0.3, 0.1]\n",
            "[0.3, 0.1]\n",
            "[-0.3000000000000001, -0.7000000000000001]\n",
            "[-0.3000000000000001, -0.7000000000000001]\n"
          ]
        }
      ]
    },
    {
      "cell_type": "code",
      "source": [
        "for i in range(5):\n",
        "  for j in range(4):\n",
        "    y = nn_step(Data[j], w, 0.2)\n",
        "    w = new_w(Data[j], w, y, Yd[j], 0.2)\n",
        "    print(w)"
      ],
      "metadata": {
        "colab": {
          "base_uri": "https://localhost:8080/"
        },
        "id": "-KjmJ2MaMili",
        "outputId": "ed06ae14-c804-4a48-d938-c75044cae1ae"
      },
      "execution_count": 6,
      "outputs": [
        {
          "output_type": "stream",
          "name": "stdout",
          "text": [
            "[0.3, 0.1]\n",
            "[0.3, 0.1]\n",
            "[-0.3000000000000001, -0.7000000000000001]\n",
            "[-0.3000000000000001, -0.7000000000000001]\n",
            "[0.7, -0.30000000000000004]\n",
            "[0.7, -0.30000000000000004]\n",
            "[0.09999999999999987, -1.1]\n",
            "[0.09999999999999987, -1.1]\n",
            "[1.0999999999999999, -0.7000000000000001]\n",
            "[1.0999999999999999, -0.7000000000000001]\n",
            "[0.4999999999999998, -1.5]\n",
            "[0.4999999999999998, -1.5]\n",
            "[1.4999999999999998, -1.1]\n",
            "[1.4999999999999998, -1.1]\n",
            "[1.4999999999999998, -1.1]\n",
            "[0.9999999999999998, -1.7000000000000002]\n",
            "[0.9999999999999998, -1.7000000000000002]\n",
            "[0.9999999999999998, -1.7000000000000002]\n",
            "[0.9999999999999998, -1.7000000000000002]\n",
            "[0.9999999999999998, -1.7000000000000002]\n"
          ]
        }
      ]
    },
    {
      "cell_type": "code",
      "source": [
        ""
      ],
      "metadata": {
        "id": "uXAQz_r3Mpmp"
      },
      "execution_count": null,
      "outputs": []
    }
  ]
}