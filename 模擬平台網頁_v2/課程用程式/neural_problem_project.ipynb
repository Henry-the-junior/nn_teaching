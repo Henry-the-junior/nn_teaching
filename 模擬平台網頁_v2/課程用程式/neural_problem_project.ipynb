{
  "nbformat": 4,
  "nbformat_minor": 0,
  "metadata": {
    "colab": {
      "name": "neural_problem_project.ipynb",
      "provenance": [],
      "collapsed_sections": []
    },
    "kernelspec": {
      "name": "python3",
      "display_name": "Python 3"
    },
    "language_info": {
      "name": "python"
    }
  },
  "cells": [
    {
      "cell_type": "code",
      "execution_count": null,
      "metadata": {
        "id": "RX7Yhun549xW"
      },
      "outputs": [],
      "source": [
        "# 輸入資料與期望輸出\n",
        "Data = [[5, 2], [4.5, 2.5], [3, 4], [2.5, 3]]\n",
        "Yd = [1, 1, 0, 0]\n",
        "\n",
        "# 設定起始權重\n",
        "w = [0.3, 0.1]"
      ]
    },
    {
      "cell_type": "code",
      "source": [
        "# 了解陣列結構\n",
        "print(\"輸入值：\")\n",
        "print(Data[0])\n",
        "print(Data[1])\n",
        "print(Data[2])\n",
        "print(Data[3])\n",
        "print(\"-----\")\n",
        "print(\"期望輸出：\")\n",
        "print(Yd[0])\n",
        "print(Yd[1])\n",
        "print(Yd[2])\n",
        "print(Yd[3])\n",
        "print(\"-----\")\n",
        "print(\"起始權重：\")\n",
        "print(w[0])\n",
        "print(w[1])"
      ],
      "metadata": {
        "id": "lrk-T30S5BX0"
      },
      "execution_count": null,
      "outputs": []
    },
    {
      "cell_type": "code",
      "source": [
        "theta = 0.2\n",
        "\n",
        "# 計算第一筆資料的輸出值\n",
        "X = Data[0][0] * w[0] + Data[0][1] * w[1] - theta\n",
        "print(X)\n",
        "\n",
        "# 計算第二筆資料的輸出值\n",
        "X = Data[1][0] * w[0] + Data[1][1] * w[1] - theta\n",
        "print(X)\n",
        "\n",
        "# 計算第三筆資料的輸出值\n",
        "X = Data[2][0] * w[0] + Data[2][1] * w[1] - theta\n",
        "print(X)\n",
        "\n",
        "# 計算第四筆資料的輸出值\n",
        "X = Data[3][0] * w[0] + Data[3][1] * w[1] - theta\n",
        "print(X)"
      ],
      "metadata": {
        "id": "_-dpoQ1g5FZD"
      },
      "execution_count": null,
      "outputs": []
    },
    {
      "cell_type": "code",
      "source": [
        "# nn函數\n",
        "def nn(x, w, theta):\n",
        "  __________________________________\n",
        "  return X"
      ],
      "metadata": {
        "id": "xWLlxAGf5Hf4"
      },
      "execution_count": null,
      "outputs": []
    },
    {
      "cell_type": "code",
      "source": [
        "theta = 0.2\n",
        "\n",
        "# 計算第一筆資料的輸出值\n",
        "X = nn(Data[0], w, theta)\n",
        "print(X)\n",
        "\n",
        "# 計算第二筆資料的輸出值\n",
        "X = nn(Data[1], w, theta)\n",
        "print(X)\n",
        "\n",
        "# 計算第三筆資料的輸出值\n",
        "X = nn(Data[2], w, theta)\n",
        "print(X)\n",
        "\n",
        "# 計算第四筆資料的輸出值\n",
        "X = nn(Data[3], w, theta)\n",
        "print(X)"
      ],
      "metadata": {
        "id": "z4QeVshL5LbW"
      },
      "execution_count": null,
      "outputs": []
    },
    {
      "cell_type": "code",
      "source": [
        "# 步階函數\n",
        "def step(X):\n",
        "  if _________:\n",
        "    return ____\n",
        "  else:\n",
        "    return ____"
      ],
      "metadata": {
        "id": "5MgOp9f36EPh"
      },
      "execution_count": null,
      "outputs": []
    },
    {
      "cell_type": "code",
      "source": [
        "# 測試步階函數\n",
        "Y = step(5)\n",
        "print(Y)\n",
        "\n",
        "Y = step(-1)\n",
        "print(Y)"
      ],
      "metadata": {
        "id": "30p4ip4fCSlv"
      },
      "execution_count": null,
      "outputs": []
    },
    {
      "cell_type": "code",
      "source": [
        "# nn函數與步階函數串接\n",
        "def nn_step(x, w, theta):\n",
        "  return step(nn(x, w, theta))"
      ],
      "metadata": {
        "id": "JgdtTd5A6EVI"
      },
      "execution_count": null,
      "outputs": []
    },
    {
      "cell_type": "code",
      "source": [
        "theta = 0.2\n",
        "\n",
        "# 計算第一筆資料的輸出值\n",
        "Y = nn_step(Data[0], w, theta)\n",
        "print(Y)\n",
        "\n",
        "# 計算第二筆資料的輸出值\n",
        "Y = nn_step(Data[1], w, theta)\n",
        "print(Y)\n",
        "\n",
        "# 計算第三筆資料的輸出值\n",
        "Y = nn_step(Data[2], w, theta)\n",
        "print(Y)\n",
        "\n",
        "# 計算第四筆資料的輸出值\n",
        "Y = nn_step(Data[3], w, theta)\n",
        "print(Y)"
      ],
      "metadata": {
        "id": "wCb3xJR-8nV3"
      },
      "execution_count": null,
      "outputs": []
    },
    {
      "cell_type": "code",
      "source": [
        "# 學習演算法\n",
        "def new_w(x, w, y, yd, alpha):\n",
        "  error = __________\n",
        "  w[0] = ________________________________\n",
        "  w[1] = ________________________________\n",
        "  return w"
      ],
      "metadata": {
        "id": "hKrlzfqq-oFm"
      },
      "execution_count": null,
      "outputs": []
    },
    {
      "cell_type": "code",
      "source": [
        "# 讀取第一筆資料並調整權重\n",
        "y = nn_step(Data[0], w, 0.2)\n",
        "w = new_w(Data[0], w, y, Yd[0], 0.2)\n",
        "print(w)\n",
        "# 讀取第二筆資料並調整權重\n",
        "y = nn_step(Data[1], w, 0.2)\n",
        "w = new_w(Data[1], w, y, Yd[1], 0.2)\n",
        "print(w)\n",
        "# 讀取第三筆資料並調整權重\n",
        "y = nn_step(Data[2], w, 0.2)\n",
        "w = new_w(Data[2], w, y, Yd[2], 0.2)\n",
        "print(w)\n",
        "# 讀取第四筆資料並調整權重\n",
        "y = nn_step(Data[3], w, 0.2)\n",
        "w = new_w(Data[3], w, y, Yd[3], 0.2)\n",
        "print(w)"
      ],
      "metadata": {
        "id": "bV_YTscSEXuL"
      },
      "execution_count": null,
      "outputs": []
    },
    {
      "cell_type": "code",
      "source": [
        "for i in range(5):\n",
        "  for j in range(4):\n",
        "    print(\"第\", i , \"次迭代, 讀取第\", j, \"筆資料\")"
      ],
      "metadata": {
        "colab": {
          "base_uri": "https://localhost:8080/"
        },
        "id": "LHYQF34XFOx4",
        "outputId": "463fed2c-fc0c-46b4-da82-6ff195df7e50"
      },
      "execution_count": 1,
      "outputs": [
        {
          "output_type": "stream",
          "name": "stdout",
          "text": [
            "第 0 次迭代, 讀取第 0 筆資料\n",
            "第 0 次迭代, 讀取第 1 筆資料\n",
            "第 0 次迭代, 讀取第 2 筆資料\n",
            "第 0 次迭代, 讀取第 3 筆資料\n",
            "第 1 次迭代, 讀取第 0 筆資料\n",
            "第 1 次迭代, 讀取第 1 筆資料\n",
            "第 1 次迭代, 讀取第 2 筆資料\n",
            "第 1 次迭代, 讀取第 3 筆資料\n",
            "第 2 次迭代, 讀取第 0 筆資料\n",
            "第 2 次迭代, 讀取第 1 筆資料\n",
            "第 2 次迭代, 讀取第 2 筆資料\n",
            "第 2 次迭代, 讀取第 3 筆資料\n",
            "第 3 次迭代, 讀取第 0 筆資料\n",
            "第 3 次迭代, 讀取第 1 筆資料\n",
            "第 3 次迭代, 讀取第 2 筆資料\n",
            "第 3 次迭代, 讀取第 3 筆資料\n",
            "第 4 次迭代, 讀取第 0 筆資料\n",
            "第 4 次迭代, 讀取第 1 筆資料\n",
            "第 4 次迭代, 讀取第 2 筆資料\n",
            "第 4 次迭代, 讀取第 3 筆資料\n"
          ]
        }
      ]
    },
    {
      "cell_type": "code",
      "source": [
        ""
      ],
      "metadata": {
        "id": "RggfL-NmFny3"
      },
      "execution_count": null,
      "outputs": []
    }
  ]
}