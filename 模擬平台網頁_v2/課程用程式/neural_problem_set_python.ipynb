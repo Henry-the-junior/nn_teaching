{
  "nbformat": 4,
  "nbformat_minor": 0,
  "metadata": {
    "colab": {
      "name": "neural_problem_set_python.ipynb",
      "provenance": [],
      "collapsed_sections": []
    },
    "kernelspec": {
      "name": "python3",
      "display_name": "Python 3"
    },
    "language_info": {
      "name": "python"
    }
  },
  "cells": [
    {
      "cell_type": "markdown",
      "source": [
        "第二單元 什麼是類神經網路？\n",
        "\n",
        "Q1：用程式撰寫一個簡單的類神經網路，其中能夠輸入三個數值與三個權重相乘，最後相加為輸出， 底下為部分程式的參考與程式撰寫後的輸出範例。請參照範例，試著將缺少的部分撰寫完成。"
      ],
      "metadata": {
        "id": "rgE8OBfHNTXw"
      }
    },
    {
      "cell_type": "code",
      "execution_count": 1,
      "metadata": {
        "colab": {
          "base_uri": "https://localhost:8080/"
        },
        "id": "MbqSRCuML8Gd",
        "outputId": "e1a5e342-7172-48a3-ffa3-8ac2988e58be"
      },
      "outputs": [
        {
          "output_type": "stream",
          "name": "stdout",
          "text": [
            "6\n"
          ]
        }
      ],
      "source": [
        "def nn(x1, x2, x3, w1, w2, w3):\n",
        "  y = w1 * x1 + w2 * x2 + w3 * x3\n",
        "  return y\n",
        "\n",
        "print(nn(1, 2, 3, 1, 1, 1))"
      ]
    },
    {
      "cell_type": "markdown",
      "source": [
        "第二單元 什麼是類神經網路？\n",
        "\n",
        "Q2：用程式撰寫類神經網路，其中使用for迴圈將輸入值與權重相乘後加總，最後輸出，底下為部分程式的參考與程式撰寫後的輸出範例。 請參照範例，試著將缺少的部分撰寫完成。"
      ],
      "metadata": {
        "id": "B5p4W2TfNkDQ"
      }
    },
    {
      "cell_type": "code",
      "source": [
        "def nn(x, w, n):\n",
        "  y = 0\n",
        "  for i in range(n):\n",
        "    y += x[i] * w[i]\n",
        "  return y\n",
        "\n",
        "print(nn([1, 2], [1, 1], 2))\n",
        "print(nn([2, 3, 4], [3, 2, 7], 3))"
      ],
      "metadata": {
        "id": "bKyMuXMgNjVB"
      },
      "execution_count": null,
      "outputs": []
    },
    {
      "cell_type": "markdown",
      "source": [
        "第三單元 類神經網路如何調整權重？\n",
        "\n",
        "Q1：用程式撰寫類神經網路，其中能夠輸入三個數值(x1, x2, x3)與三個權重(w1, w2, w3)，以及它的期望輸出(yd)， 類神經網路會將三個數值與三個權重相乘後加總，最後相加得到輸出(y)，還會將yd減去y得到誤差(error)，底下為部分程式的參考與程式撰寫後的輸出範例。 請參照範例，試著將缺少的部分撰寫完成。"
      ],
      "metadata": {
        "id": "FFAAkqBbNsyW"
      }
    },
    {
      "cell_type": "code",
      "source": [
        "def nn(x1, x2, x3, w1, w2, w3, yd):\n",
        "  y = x1 * w1 + x2 * w2 + x3 * w3\n",
        "  error = yd - y\n",
        "  return y, error\n",
        "\n",
        "print(nn(1, 2, 3, 1, 1, 1, 2))\n",
        "print(nn(2, 3, 4, 3, 2, 7, 3))"
      ],
      "metadata": {
        "id": "x7mt1xrANsFg"
      },
      "execution_count": null,
      "outputs": []
    },
    {
      "cell_type": "markdown",
      "source": [
        "第三單元 類神經網路如何調整權重？\n",
        "\n",
        "Q2：用程式撰寫類神經網路，其中使用for迴圈將輸入值與權重相乘後加總，最後輸出(y)， 再將期望輸出(yd)減去輸出(y)，底下為部分程式的參考與程式撰寫後的輸出範例。請參照範例，試著將缺少的部分撰寫完成。"
      ],
      "metadata": {
        "id": "liJsLUrPN2hc"
      }
    },
    {
      "cell_type": "code",
      "source": [
        "def nn(x, w, n, yd):\n",
        "  y = 0\n",
        "  for i in range(n):\n",
        "    y += x[i] * w[i]\n",
        "  error = yd - y\n",
        "  return y, error\n",
        "\n",
        "print(nn([1, 2, 3], [1, 1, 1], 3, 10))\n",
        "print(nn([2, 3], [4, 3], 2, 7))"
      ],
      "metadata": {
        "id": "ZIh13oJENSu9"
      },
      "execution_count": null,
      "outputs": []
    },
    {
      "cell_type": "markdown",
      "source": [
        "第四單元 類神經元的運算\n",
        "\n",
        "Q1：用程式撰寫類神經網路，其中能夠輸入兩個數值(x1, x2)與兩個權重(w1, w2)，以及一個𝜃，類神經網路會將兩個數值與兩個權重相乘後加總，最後減去𝜃得到輸出X，然後將X值透過「符號函數」轉換為y，底下為部分程式的參考與程式撰寫後的輸出範例。請參照範例，試著將缺少的部分撰寫完成。"
      ],
      "metadata": {
        "id": "l7Qn63_POEH1"
      }
    },
    {
      "cell_type": "code",
      "source": [
        "def nn(x1, x2, w1, w2, theta):\n",
        "  X = x1 * w1 + x2 * w2 - theta\n",
        "  if X >= 0:\n",
        "    return 1\n",
        "  else:\n",
        "    return -1\n",
        "\n",
        "print(nn(1, 2, 3, 2, 10))\n",
        "print(nn(4, 2, 3, 3, 2))"
      ],
      "metadata": {
        "id": "UmjGVCdbODhH"
      },
      "execution_count": null,
      "outputs": []
    },
    {
      "cell_type": "markdown",
      "source": [
        "第四單元 類神經元的運算\n",
        "\n",
        "Q2：用程式撰寫類神經網路，其中使用for迴圈將輸入值與權重相乘後加總，減去一個𝜃，最後輸出X，然後將X值透過「符號函數」轉換為y，底下為部分程式的參考與程式撰寫後的輸出範例。請參照範例，試著將缺少的部分撰寫完成。"
      ],
      "metadata": {
        "id": "Kdt8I2CEOOx8"
      }
    },
    {
      "cell_type": "code",
      "source": [
        "def nn(x, w, n, theta):\n",
        "  X = 0\n",
        "  for i in range(n):\n",
        "    X += x[i] * w[i]\n",
        "  X = X - theta\n",
        "  if X >= 0:\n",
        "    return 1\n",
        "  else:\n",
        "    return -1\n",
        "\n",
        "print(nn([1, 3, 2], [2, 4, 3], 3, 30))\n",
        "print(nn([4, 3, 5, 10], [6, 3, 8, 1], 4, 10))"
      ],
      "metadata": {
        "id": "PwJv1OgtN8UK"
      },
      "execution_count": null,
      "outputs": []
    },
    {
      "cell_type": "markdown",
      "source": [
        "第五單元 符號函數是唯一的激勵函數嗎？\n",
        "\n",
        "Q1：用程式撰寫步階函數、符號函數、S形函數，以及線性函數，請使用定義函數的方式，參照範例將此題完成。"
      ],
      "metadata": {
        "id": "WDxZkupfOnXN"
      }
    },
    {
      "cell_type": "code",
      "source": [
        "def step(X):\n",
        "  if X >= 0:\n",
        "    return 1\n",
        "  else:\n",
        "    return 0\n",
        "\n",
        "def sign(X):\n",
        "  if X >= 0:\n",
        "    return 1\n",
        "  else:\n",
        "    return -1\n",
        "\n",
        "import math\n",
        "\n",
        "def sigmoid(X):\n",
        "  return 1/(1 + math.exp(-X))\n",
        "\n",
        "def linear(X):\n",
        "  return X\n",
        "\n",
        "print(step(3))\n",
        "print(sign(-1))\n",
        "print(sigmoid(7))\n",
        "print(linear(3))"
      ],
      "metadata": {
        "id": "HZtbUO_iOn6M"
      },
      "execution_count": null,
      "outputs": []
    },
    {
      "cell_type": "markdown",
      "source": [
        "第五單元 符號函數是唯一的激勵函數嗎？\n",
        "\n",
        "Q2：在第四單元，我們撰寫了多輸入值搭配符號函數的類神經網路，而在前一題，我們實作的各式的激勵函數，請運用程式提示的撰寫架構，重新實作多輸入值搭配符號函數的類神經網路。"
      ],
      "metadata": {
        "id": "1mQbQzFDQovw"
      }
    },
    {
      "cell_type": "code",
      "source": [
        "def nn(x, w, n, theta):\n",
        "  X = 0\n",
        "  for i in range(n):\n",
        "    X += x[i] * w[i]\n",
        "  X = X - theta\n",
        "  return X\n",
        "\n",
        "def sign(X):\n",
        "  if X >= 0:\n",
        "    return 1\n",
        "  else:\n",
        "    return -1\n",
        "\n",
        "def nn_sign(x, w, n, theta):\n",
        "  return sign(nn(x, w, n, theta))\n",
        "\n",
        "print(nn_sign([1, 2], [3, 4], 2, 5))"
      ],
      "metadata": {
        "colab": {
          "base_uri": "https://localhost:8080/"
        },
        "id": "izoxz3FOSPfC",
        "outputId": "f91fe7ae-7d8c-4cbd-b466-0eaf90e5f2c2"
      },
      "execution_count": 5,
      "outputs": [
        {
          "output_type": "stream",
          "name": "stdout",
          "text": [
            "1\n"
          ]
        }
      ]
    },
    {
      "cell_type": "markdown",
      "source": [
        "第六單元 類神經網路如何學習分類？\n",
        "\n",
        "Q1：在這個章節中，我們學習到「學習演算法」，也透過「學習分類昆蟲資料」的例子了解到訓練類神經網路的過程，請依照下面的程式提示，實作「學習分類昆蟲資料」的訓練過程。"
      ],
      "metadata": {
        "id": "swEhw3QMcjpG"
      }
    },
    {
      "cell_type": "code",
      "source": [
        "X = [[5, 2], [4.5, 2.5], [3, 4], [2.5, 3]]\n",
        "Yd = [1, 1, 0, 0]\n",
        "w = [0.3, 0.1]\n",
        "\n",
        "def nn(x, w, n, theta):\n",
        "  X = 0\n",
        "  for i in range(n):\n",
        "    X += x[i] * w[i]\n",
        "  X = X - theta\n",
        "  return X\n",
        "\n",
        "def step(X):\n",
        "  if X >= 0:\n",
        "    return 1\n",
        "  else:\n",
        "    return 0\n",
        "\n",
        "def nn_step(x, w, n, theta):\n",
        "  return step(nn(x, w, n, theta))\n",
        "\n",
        "def new_w(x, w, n, y, yd, alpha):\n",
        "  error = yd - y\n",
        "  for i in range(n):\n",
        "    w[i] = w[i] + (alpha * x[i] * error)\n",
        "  return w\n",
        "\n",
        "for i in range(5):\n",
        "  for j in range(4):\n",
        "    y = nn_step(X[j], w, 2, 0.2)\n",
        "    w = new_w(X[j], w, 2, y, Yd[j], 0.2)\n",
        "    print(w)\n"
      ],
      "metadata": {
        "colab": {
          "base_uri": "https://localhost:8080/"
        },
        "id": "GAOJTrW2S1Oq",
        "outputId": "0e6adbb5-1860-4703-ae68-eb3d8c0c5bb8"
      },
      "execution_count": 6,
      "outputs": [
        {
          "output_type": "stream",
          "name": "stdout",
          "text": [
            "[0.3, 0.1]\n",
            "[0.3, 0.1]\n",
            "[-0.3000000000000001, -0.7000000000000001]\n",
            "[-0.3000000000000001, -0.7000000000000001]\n",
            "[0.7, -0.30000000000000004]\n",
            "[0.7, -0.30000000000000004]\n",
            "[0.09999999999999987, -1.1]\n",
            "[0.09999999999999987, -1.1]\n",
            "[1.0999999999999999, -0.7000000000000001]\n",
            "[1.0999999999999999, -0.7000000000000001]\n",
            "[0.4999999999999998, -1.5]\n",
            "[0.4999999999999998, -1.5]\n",
            "[1.4999999999999998, -1.1]\n",
            "[1.4999999999999998, -1.1]\n",
            "[1.4999999999999998, -1.1]\n",
            "[0.9999999999999998, -1.7000000000000002]\n",
            "[0.9999999999999998, -1.7000000000000002]\n",
            "[0.9999999999999998, -1.7000000000000002]\n",
            "[0.9999999999999998, -1.7000000000000002]\n",
            "[0.9999999999999998, -1.7000000000000002]\n"
          ]
        }
      ]
    },
    {
      "cell_type": "code",
      "source": [
        ""
      ],
      "metadata": {
        "id": "3hKDYbXZhRXu"
      },
      "execution_count": null,
      "outputs": []
    }
  ]
}